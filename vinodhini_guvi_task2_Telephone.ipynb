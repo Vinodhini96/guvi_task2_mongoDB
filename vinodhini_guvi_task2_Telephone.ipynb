{
 "cells": [
  {
   "cell_type": "markdown",
   "id": "1e1cbe17",
   "metadata": {},
   "source": [
    "# GUVI Task 2"
   ]
  },
  {
   "cell_type": "markdown",
   "id": "4ac4cc81",
   "metadata": {},
   "source": [
    "# Telephone Directory CRUD Operation"
   ]
  },
  {
   "cell_type": "markdown",
   "id": "f23b3db8",
   "metadata": {},
   "source": [
    "VINODHINI RAJAMANICKAM; Batch D50"
   ]
  },
  {
   "cell_type": "markdown",
   "id": "9ee04416",
   "metadata": {},
   "source": [
    "## install pymongo"
   ]
  },
  {
   "cell_type": "code",
   "execution_count": 1,
   "id": "cb3253b2",
   "metadata": {},
   "outputs": [
    {
     "name": "stdout",
     "output_type": "stream",
     "text": [
      "Requirement already satisfied: pymongo in c:\\users\\avino\\anaconda3\\lib\\site-packages (4.3.3)\n",
      "Requirement already satisfied: dnspython<3.0.0,>=1.16.0 in c:\\users\\avino\\anaconda3\\lib\\site-packages (from pymongo) (2.2.1)\n"
     ]
    }
   ],
   "source": [
    "!pip install pymongo"
   ]
  },
  {
   "cell_type": "markdown",
   "id": "6461b48e",
   "metadata": {},
   "source": [
    "## import pymongo module"
   ]
  },
  {
   "cell_type": "code",
   "execution_count": 2,
   "id": "c6d63aed",
   "metadata": {},
   "outputs": [],
   "source": [
    "import pymongo"
   ]
  },
  {
   "cell_type": "markdown",
   "id": "0609beaf",
   "metadata": {},
   "source": [
    "## check the version"
   ]
  },
  {
   "cell_type": "code",
   "execution_count": 4,
   "id": "1d09a693",
   "metadata": {},
   "outputs": [
    {
     "data": {
      "text/plain": [
       "'4.3.3'"
      ]
     },
     "execution_count": 4,
     "metadata": {},
     "output_type": "execute_result"
    }
   ],
   "source": [
    "pymongo.version"
   ]
  },
  {
   "cell_type": "markdown",
   "id": "e312965d",
   "metadata": {},
   "source": [
    "## creating connection between python and mongoDB"
   ]
  },
  {
   "cell_type": "code",
   "execution_count": 6,
   "id": "80e96742",
   "metadata": {},
   "outputs": [],
   "source": [
    "client = pymongo.MongoClient(\"mongodb://127.0.0.1:27017/\")"
   ]
  },
  {
   "cell_type": "markdown",
   "id": "d6f0215b",
   "metadata": {},
   "source": [
    "## listing all databases available"
   ]
  },
  {
   "cell_type": "code",
   "execution_count": 8,
   "id": "f8f5681a",
   "metadata": {},
   "outputs": [
    {
     "name": "stdout",
     "output_type": "stream",
     "text": [
      "['GUVI', 'admin', 'config', 'local', 'university']\n"
     ]
    }
   ],
   "source": [
    "my_dbs = client.list_database_names()\n",
    "print(my_dbs)"
   ]
  },
  {
   "cell_type": "markdown",
   "id": "247f4f28",
   "metadata": {},
   "source": [
    "## creating a databse"
   ]
  },
  {
   "cell_type": "code",
   "execution_count": 11,
   "id": "66e213e5",
   "metadata": {},
   "outputs": [
    {
     "data": {
      "text/plain": [
       "Database(MongoClient(host=['127.0.0.1:27017'], document_class=dict, tz_aware=False, connect=True), 'GUVI_Telephone')"
      ]
     },
     "execution_count": 11,
     "metadata": {},
     "output_type": "execute_result"
    }
   ],
   "source": [
    "#creating a database \"GUVI_Telephone\" and assigning it to a variable \"db\"\n",
    "db = client[\"GUVI_Telephone\"]\n",
    "db #printing the databse"
   ]
  },
  {
   "cell_type": "markdown",
   "id": "a6542dad",
   "metadata": {},
   "source": [
    "## creating a collection"
   ]
  },
  {
   "cell_type": "code",
   "execution_count": 25,
   "id": "6b77b36c",
   "metadata": {},
   "outputs": [],
   "source": [
    "telephone = db[\"Telephone\"]"
   ]
  },
  {
   "cell_type": "markdown",
   "id": "2c695399",
   "metadata": {},
   "source": [
    "## listing all the collections in \"GUVI_Telephone\" database"
   ]
  },
  {
   "cell_type": "code",
   "execution_count": 15,
   "id": "5ca28c94",
   "metadata": {},
   "outputs": [
    {
     "name": "stdout",
     "output_type": "stream",
     "text": [
      "[]\n"
     ]
    }
   ],
   "source": [
    "db_collections = db.list_collection_names()          # will show empty because we have not inserted any data to it.\n",
    "print(db_collections)"
   ]
  },
  {
   "cell_type": "markdown",
   "id": "12d006cd",
   "metadata": {},
   "source": [
    "## inserting documents in \"Telephone\" collection"
   ]
  },
  {
   "cell_type": "markdown",
   "id": "bcfc4450",
   "metadata": {},
   "source": [
    "### using insert_one() method"
   ]
  },
  {
   "cell_type": "code",
   "execution_count": 19,
   "id": "6bdfc319",
   "metadata": {},
   "outputs": [
    {
     "name": "stdout",
     "output_type": "stream",
     "text": [
      "<pymongo.results.InsertOneResult object at 0x0000029711AF5880>\n",
      "63a82cbddbf228034f8d90c0\n"
     ]
    }
   ],
   "source": [
    "customer1 = telephone.insert_one({\"name\": \"Vinie\", \"phone_no\": 9812345670, \"network\": \"vi\", \"address\": \"123, lodhi road\", \"city\" :\"new delhi\"})\n",
    "print(customer1)\n",
    "print(customer1.inserted_id)"
   ]
  },
  {
   "cell_type": "markdown",
   "id": "8dc158a4",
   "metadata": {},
   "source": [
    "### inserting multiple documents using insert_many() method"
   ]
  },
  {
   "cell_type": "code",
   "execution_count": 33,
   "id": "e7fe7950",
   "metadata": {},
   "outputs": [],
   "source": [
    "data =[{\"name\": \"Vinod\", \"phone_no\": 985678890, \"network\": \"airtel\", \"address\": \"65, pusa road\", \"city\": \"new delhi\"},\n",
    "            {\"name\": \"Vicky\", \"phone_no\": 9123450767, \"network\": \"airtel\", \"address\": \"78, Tilak nagar\", \"city\": \"west delhi\"},\n",
    "            {\"name\": \"Sahil\", \"phone_no\": 9765432190, \"network\": \"vi\", \"address\": \"61, jorbagh\", \"city\": \" south delhi\"},\n",
    "            {\"name\": \"Raj\", \"phone_no\": 9808654321, \"network\": \"vi\", \"address\": \"674, ashram\", \"city\": \"south delhi\"},\n",
    "            {\"name\": \"Ambu\", \"phone_no\": 9657543210, \"network\": \"bsnl\", \"address\": \"712, malviya nagar\", \"city\": \"south delhi\"},\n",
    "            {\"name\": \"Rani\", \"phone_no\": 9678900098, \"network\": \"airtel\", \"address\": \"12, jorbagh\", \"city\": \"south delhi\"},\n",
    "            {\"name\": \"Ankit\", \"phone_no\": 9800067812, \"network\": \"jio\", \"address\": \"65, pusa road\", \"city\": \"new delhi\"},\n",
    "            {\"name\": \"Monika\", \"phone_no\": 9812347865, \"network\": \"jio\", \"address\": \"54, kotla\", \"city\": \"new delhi\"},\n",
    "            {\"name\": \"Anjali\", \"phone_no\": 9564329100, \"network\": \"jio\", \"address\": \"45, defence colony\", \"city\": \"new delhi\"},\n",
    "            {\"name\": \"Vinod\", \"phone_no\": 9800111234, \"network\": \"vi\", \"address\": \"65, chandni chawk\", \"city\": \"old delhi\"},\n",
    "            {\"name\": \"Kajal\", \"phone_no\": 7654389765, \"network\": \"airtel\", \"address\": \"82, lajpat nagar\", \"city\": \"new delhi\"},\n",
    "            {\"name\": \"Amit\", \"phone_no\": 7654321890, \"network\": \"vi\", \"address\": \"432, laxmi nagar\", \"city\": \"east delhi\"},\n",
    "            {\"name\": \"Vinod\", \"phone_no\": 7567890909, \"network\": \"airtel\", \"address\": \"145,lodhi complex\", \"city\": \"new delhi\"}]"
   ]
  },
  {
   "cell_type": "code",
   "execution_count": 34,
   "id": "30887972",
   "metadata": {},
   "outputs": [
    {
     "name": "stdout",
     "output_type": "stream",
     "text": [
      "<pymongo.results.InsertManyResult object at 0x0000029711D721F0>\n",
      "[ObjectId('63a8367fdbf228034f8d90d6'), ObjectId('63a8367fdbf228034f8d90d7'), ObjectId('63a8367fdbf228034f8d90d8'), ObjectId('63a8367fdbf228034f8d90d9'), ObjectId('63a8367fdbf228034f8d90da'), ObjectId('63a8367fdbf228034f8d90db'), ObjectId('63a8367fdbf228034f8d90dc'), ObjectId('63a8367fdbf228034f8d90dd'), ObjectId('63a8367fdbf228034f8d90de'), ObjectId('63a8367fdbf228034f8d90df'), ObjectId('63a8367fdbf228034f8d90e0'), ObjectId('63a8367fdbf228034f8d90e1'), ObjectId('63a8367fdbf228034f8d90e2')]\n"
     ]
    }
   ],
   "source": [
    "customers = telephone.insert_many(data)\n",
    "print(customers)\n",
    "print(customers.inserted_ids)\n",
    "\n"
   ]
  },
  {
   "cell_type": "markdown",
   "id": "27eb8dab",
   "metadata": {},
   "source": [
    "## print all the records from \"Telephone\" collection"
   ]
  },
  {
   "cell_type": "code",
   "execution_count": 35,
   "id": "bd183a72",
   "metadata": {},
   "outputs": [
    {
     "name": "stdout",
     "output_type": "stream",
     "text": [
      "{'_id': ObjectId('63a82c9ddbf228034f8d90bf'), 'name': 'Vinie', 'phone_no': 9812345670, 'network': 'vi', 'address': '123, lodhi road, delhi'}\n",
      "{'_id': ObjectId('63a82cbddbf228034f8d90c0'), 'name': 'Vinie', 'phone_no': 9812345670, 'network': 'vi', 'address': '123, lodhi road, delhi'}\n",
      "{'_id': ObjectId('63a83429dbf228034f8d90c1'), 'name': 'Vinod', 'phone_no': 985678890, 'network': 'airtel', 'address': '65, pusa road', 'city': 'new delhi'}\n",
      "{'_id': ObjectId('63a83429dbf228034f8d90c2'), 'name': 'Vicky', 'phone_no': 9123450767, 'network': 'airtel', 'address': '78, Tilak nagar', 'city': 'west delhi'}\n",
      "{'_id': ObjectId('63a83429dbf228034f8d90c3'), 'name': 'Sahil', 'phone_no': 9765432190, 'network': 'vi', 'address': '61, jorbagh', 'city': ' south delhi'}\n",
      "{'_id': ObjectId('63a83429dbf228034f8d90c4'), 'name': 'Raj', 'phone_no': 9808654321, 'network': 'vi', 'address': '674, ashram', 'city': 'south delhi'}\n",
      "{'_id': ObjectId('63a83429dbf228034f8d90c5'), 'name': 'Ambu', 'phone_no': 9657543210, 'network': 'bsnl', 'address': '712, malviya nagar', 'city': 'south delhi'}\n",
      "{'_id': ObjectId('63a83429dbf228034f8d90c6'), 'name': 'Rani', 'phone_no': 9678900098, 'network': 'airtel', 'address': '12, jorbagh', 'city': 'south delhi'}\n",
      "{'_id': ObjectId('63a83429dbf228034f8d90c7'), 'name': 'Ankit', 'phone_no': 9800067812, 'network': 'jio', 'address': '65, pusa road', 'city': 'new delhi'}\n",
      "{'_id': ObjectId('63a83429dbf228034f8d90c8'), 'name': 'Monika', 'phone_no': 9812347865, 'network': 'jio', 'address': '54, kotla', 'city': 'new delhi'}\n",
      "{'_id': ObjectId('63a83429dbf228034f8d90c9'), 'name': 'Anjali', 'phone_no': 9564329100, 'network': 'jio', 'address': '45, defence colony', 'city': 'new delhi'}\n",
      "{'_id': ObjectId('63a83429dbf228034f8d90ca'), 'name': 'Vinod', 'phone_no': 9800111234, 'network': 'vi', 'address': '65, chandni chawk', 'city': 'old delhi'}\n",
      "{'_id': ObjectId('63a83429dbf228034f8d90cb'), 'name': 'Kajal', 'phone_no': 7654389765, 'network': 'airtel', 'address': '82, lajpat nagar', 'city': 'new delhi'}\n",
      "{'_id': ObjectId('63a83429dbf228034f8d90cc'), 'name': 'Amit', 'phone_no': 7654321890, 'network': 'vi', 'address': '432, laxmi nagar', 'city': 'east delhi'}\n",
      "{'_id': ObjectId('63a83429dbf228034f8d90cd'), 'name': 'Vinod', 'phone_no': 7567890909, 'network': 'airtel', 'address': '145,lodhi complex', 'city': 'new delhi'}\n",
      "{'_id': ObjectId('63a83615dbf228034f8d90ce'), 'name': 'Vinod', 'phone_no': 985678890, 'network': 'airtel', 'address': '65, pusa road', 'city': 'new delhi'}\n",
      "{'_id': ObjectId('63a83615dbf228034f8d90cf'), 'name': 'Vicky', 'phone_no': 9123450767, 'network': 'airtel', 'address': '78, Tilak nagar', 'city': 'west delhi'}\n",
      "{'_id': ObjectId('63a83615dbf228034f8d90d0'), 'name': 'Sahil', 'phone_no': 9765432190, 'network': 'vi', 'address': '61, jorbagh', 'city': ' south delhi'}\n",
      "{'_id': ObjectId('63a83615dbf228034f8d90d1'), 'name': 'Raj', 'phone_no': 9808654321, 'network': 'vi', 'address': '674, ashram', 'city': 'south delhi'}\n",
      "{'_id': ObjectId('63a83615dbf228034f8d90d2'), 'name': 'Ambu', 'phone_no': 9657543210, 'network': 'bsnl', 'address': '712, malviya nagar', 'city': 'south delhi'}\n",
      "{'_id': ObjectId('63a83615dbf228034f8d90d3'), 'name': 'Rani', 'phone_no': 9678900098, 'network': 'airtel', 'address': '12, jorbagh', 'city': 'south delhi'}\n",
      "{'_id': ObjectId('63a83615dbf228034f8d90d4'), 'name': 'Ankit', 'phone_no': 9800067812, 'network': 'jio', 'address': '65, pusa road', 'city': 'new delhi'}\n",
      "{'_id': ObjectId('63a83615dbf228034f8d90d5'), 'name': 'Monika', 'phone_no': 9812347865, 'network': 'jio', 'address': '54, kotla', 'city': 'new delhi'}\n",
      "{'_id': ObjectId('63a8367fdbf228034f8d90d6'), 'name': 'Vinod', 'phone_no': 985678890, 'network': 'airtel', 'address': '65, pusa road', 'city': 'new delhi'}\n",
      "{'_id': ObjectId('63a8367fdbf228034f8d90d7'), 'name': 'Vicky', 'phone_no': 9123450767, 'network': 'airtel', 'address': '78, Tilak nagar', 'city': 'west delhi'}\n",
      "{'_id': ObjectId('63a8367fdbf228034f8d90d8'), 'name': 'Sahil', 'phone_no': 9765432190, 'network': 'vi', 'address': '61, jorbagh', 'city': ' south delhi'}\n",
      "{'_id': ObjectId('63a8367fdbf228034f8d90d9'), 'name': 'Raj', 'phone_no': 9808654321, 'network': 'vi', 'address': '674, ashram', 'city': 'south delhi'}\n",
      "{'_id': ObjectId('63a8367fdbf228034f8d90da'), 'name': 'Ambu', 'phone_no': 9657543210, 'network': 'bsnl', 'address': '712, malviya nagar', 'city': 'south delhi'}\n",
      "{'_id': ObjectId('63a8367fdbf228034f8d90db'), 'name': 'Rani', 'phone_no': 9678900098, 'network': 'airtel', 'address': '12, jorbagh', 'city': 'south delhi'}\n",
      "{'_id': ObjectId('63a8367fdbf228034f8d90dc'), 'name': 'Ankit', 'phone_no': 9800067812, 'network': 'jio', 'address': '65, pusa road', 'city': 'new delhi'}\n",
      "{'_id': ObjectId('63a8367fdbf228034f8d90dd'), 'name': 'Monika', 'phone_no': 9812347865, 'network': 'jio', 'address': '54, kotla', 'city': 'new delhi'}\n",
      "{'_id': ObjectId('63a8367fdbf228034f8d90de'), 'name': 'Anjali', 'phone_no': 9564329100, 'network': 'jio', 'address': '45, defence colony', 'city': 'new delhi'}\n",
      "{'_id': ObjectId('63a8367fdbf228034f8d90df'), 'name': 'Vinod', 'phone_no': 9800111234, 'network': 'vi', 'address': '65, chandni chawk', 'city': 'old delhi'}\n",
      "{'_id': ObjectId('63a8367fdbf228034f8d90e0'), 'name': 'Kajal', 'phone_no': 7654389765, 'network': 'airtel', 'address': '82, lajpat nagar', 'city': 'new delhi'}\n",
      "{'_id': ObjectId('63a8367fdbf228034f8d90e1'), 'name': 'Amit', 'phone_no': 7654321890, 'network': 'vi', 'address': '432, laxmi nagar', 'city': 'east delhi'}\n",
      "{'_id': ObjectId('63a8367fdbf228034f8d90e2'), 'name': 'Vinod', 'phone_no': 7567890909, 'network': 'airtel', 'address': '145,lodhi complex', 'city': 'new delhi'}\n"
     ]
    }
   ],
   "source": [
    "for documents in telephone.find():\n",
    "    print(documents)"
   ]
  },
  {
   "cell_type": "markdown",
   "id": "a5168aa3",
   "metadata": {},
   "source": [
    "## update records"
   ]
  },
  {
   "cell_type": "markdown",
   "id": "f3b453a0",
   "metadata": {},
   "source": [
    "### update_one()"
   ]
  },
  {
   "cell_type": "code",
   "execution_count": 42,
   "id": "695b4901",
   "metadata": {},
   "outputs": [
    {
     "name": "stdout",
     "output_type": "stream",
     "text": [
      "{'name': 'vinodhini', 'phone_no': 9812345670, 'network': 'vi', 'address': '123, lodhi road, delhi'}\n",
      "{'name': 'Vinie', 'phone_no': 9812345670, 'network': 'vi', 'address': '123, lodhi road, delhi'}\n",
      "{'name': 'Vinod', 'phone_no': 985678890, 'network': 'airtel', 'address': '65, pusa road', 'city': 'new delhi'}\n",
      "{'name': 'Vicky', 'phone_no': 9123450767, 'network': 'airtel', 'address': '78, Tilak nagar', 'city': 'west delhi'}\n",
      "{'name': 'Sahil', 'phone_no': 9765432190, 'network': 'vi', 'address': '61, jorbagh', 'city': ' south delhi'}\n",
      "{'name': 'Raj', 'phone_no': 9808654321, 'network': 'vi', 'address': '674, ashram', 'city': 'south delhi'}\n",
      "{'name': 'Ambu', 'phone_no': 9657543210, 'network': 'bsnl', 'address': '712, malviya nagar', 'city': 'south delhi'}\n",
      "{'name': 'Rani', 'phone_no': 9678900098, 'network': 'airtel', 'address': '12, jorbagh', 'city': 'south delhi'}\n",
      "{'name': 'Ankit', 'phone_no': 9800067812, 'network': 'jio', 'address': '65, pusa road', 'city': 'new delhi'}\n",
      "{'name': 'Monika', 'phone_no': 9812347865, 'network': 'jio', 'address': '54, kotla', 'city': 'new delhi'}\n",
      "{'name': 'Anjali', 'phone_no': 9564329100, 'network': 'jio', 'address': '45, defence colony', 'city': 'new delhi'}\n",
      "{'name': 'Vinod', 'phone_no': 9800111234, 'network': 'vi', 'address': '65, chandni chawk', 'city': 'old delhi'}\n",
      "{'name': 'Kajal', 'phone_no': 7654389765, 'network': 'airtel', 'address': '82, lajpat nagar', 'city': 'new delhi'}\n",
      "{'name': 'Amit', 'phone_no': 7654321890, 'network': 'vi', 'address': '432, laxmi nagar', 'city': 'east delhi'}\n",
      "{'name': 'Vinod', 'phone_no': 7567890909, 'network': 'airtel', 'address': '145,lodhi complex', 'city': 'new delhi'}\n",
      "{'name': 'Vinod', 'phone_no': 985678890, 'network': 'airtel', 'address': '65, pusa road', 'city': 'new delhi'}\n",
      "{'name': 'Vicky', 'phone_no': 9123450767, 'network': 'airtel', 'address': '78, Tilak nagar', 'city': 'west delhi'}\n",
      "{'name': 'Sahil', 'phone_no': 9765432190, 'network': 'vi', 'address': '61, jorbagh', 'city': ' south delhi'}\n",
      "{'name': 'Raj', 'phone_no': 9808654321, 'network': 'vi', 'address': '674, ashram', 'city': 'south delhi'}\n",
      "{'name': 'Ambu', 'phone_no': 9657543210, 'network': 'bsnl', 'address': '712, malviya nagar', 'city': 'south delhi'}\n",
      "{'name': 'Rani', 'phone_no': 9678900098, 'network': 'airtel', 'address': '12, jorbagh', 'city': 'south delhi'}\n",
      "{'name': 'Ankit', 'phone_no': 9800067812, 'network': 'jio', 'address': '65, pusa road', 'city': 'new delhi'}\n",
      "{'name': 'Monika', 'phone_no': 9812347865, 'network': 'jio', 'address': '54, kotla', 'city': 'new delhi'}\n",
      "{'name': 'Vinod', 'phone_no': 985678890, 'network': 'airtel', 'address': '65, pusa road', 'city': 'new delhi'}\n",
      "{'name': 'Vicky', 'phone_no': 9123450767, 'network': 'airtel', 'address': '78, Tilak nagar', 'city': 'west delhi'}\n",
      "{'name': 'Sahil', 'phone_no': 9765432190, 'network': 'vi', 'address': '61, jorbagh', 'city': ' south delhi'}\n",
      "{'name': 'Raj', 'phone_no': 9808654321, 'network': 'vi', 'address': '674, ashram', 'city': 'south delhi'}\n",
      "{'name': 'Ambu', 'phone_no': 9657543210, 'network': 'bsnl', 'address': '712, malviya nagar', 'city': 'south delhi'}\n",
      "{'name': 'Rani', 'phone_no': 9678900098, 'network': 'airtel', 'address': '12, jorbagh', 'city': 'south delhi'}\n",
      "{'name': 'Ankit', 'phone_no': 9800067812, 'network': 'jio', 'address': '65, pusa road', 'city': 'new delhi'}\n",
      "{'name': 'Monika', 'phone_no': 9812347865, 'network': 'jio', 'address': '54, kotla', 'city': 'new delhi'}\n",
      "{'name': 'Anjali', 'phone_no': 9564329100, 'network': 'jio', 'address': '45, defence colony', 'city': 'new delhi'}\n",
      "{'name': 'Vinod', 'phone_no': 9800111234, 'network': 'vi', 'address': '65, chandni chawk', 'city': 'old delhi'}\n",
      "{'name': 'Kajal', 'phone_no': 7654389765, 'network': 'airtel', 'address': '82, lajpat nagar', 'city': 'new delhi'}\n",
      "{'name': 'Amit', 'phone_no': 7654321890, 'network': 'vi', 'address': '432, laxmi nagar', 'city': 'east delhi'}\n",
      "{'name': 'Vinod', 'phone_no': 7567890909, 'network': 'airtel', 'address': '145,lodhi complex', 'city': 'new delhi'}\n"
     ]
    }
   ],
   "source": [
    "old_data = {\"name\":\"Vinie\"}\n",
    "new_data = {\"$set\": {\"name\":\"vinodhini\"}}\n",
    "telephone.update_one(old_data,new_data)\n",
    "\n",
    "for document in telephone.find({},{\"_id\":0}):\n",
    "    print(document) "
   ]
  },
  {
   "cell_type": "code",
   "execution_count": 47,
   "id": "41e722a4",
   "metadata": {},
   "outputs": [
    {
     "name": "stdout",
     "output_type": "stream",
     "text": [
      "{'name': 'vinodhini', 'phone_no': 9812345670, 'network': 'vi', 'address': '123, lodhi road, delhi'}\n",
      "{'name': 'Vinie', 'phone_no': 9812345670, 'network': 'vi', 'address': '123, lodhi road, delhi'}\n",
      "{'name': 'Vinod', 'phone_no': 985678890, 'network': 'airtel', 'address': '65, pusa road', 'city': 'new delhi'}\n",
      "{'name': 'Vicky', 'phone_no': 9123450767, 'network': 'airtel', 'address': '78, Tilak nagar', 'city': 'west delhi'}\n",
      "{'name': 'Sahil', 'phone_no': 9765432190, 'network': 'vi', 'address': '61, jorbagh', 'city': ' south delhi'}\n",
      "{'name': 'Raj', 'phone_no': 9000001234, 'network': 'vi', 'address': '674, ashram', 'city': 'south delhi', 'age': 32}\n",
      "{'name': 'Ambu', 'phone_no': 9657543210, 'network': 'bsnl', 'address': '712, malviya nagar', 'city': 'south delhi'}\n",
      "{'name': 'Rani', 'phone_no': 9678900098, 'network': 'airtel', 'address': '12, jorbagh', 'city': 'south delhi'}\n",
      "{'name': 'Ankit', 'phone_no': 9800067812, 'network': 'jio', 'address': '65, pusa road', 'city': 'new delhi'}\n",
      "{'name': 'Monika', 'phone_no': 9812347865, 'network': 'airtel', 'address': '654, ashram', 'city': 'new delhi'}\n",
      "{'name': 'Anjali', 'phone_no': 9564329100, 'network': 'jio', 'address': '45, defence colony', 'city': 'new delhi'}\n",
      "{'name': 'Vinod', 'phone_no': 9800111234, 'network': 'vi', 'address': '65, chandni chawk', 'city': 'old delhi'}\n",
      "{'name': 'Kajal', 'phone_no': 7654389765, 'network': 'airtel', 'address': '82, lajpat nagar', 'city': 'new delhi'}\n",
      "{'name': 'Amit', 'phone_no': 7654321890, 'network': 'vi', 'address': '432, laxmi nagar', 'city': 'east delhi'}\n",
      "{'name': 'Vinod', 'phone_no': 7567890909, 'network': 'airtel', 'address': '145,lodhi complex', 'city': 'new delhi'}\n",
      "{'name': 'Vinod', 'phone_no': 985678890, 'network': 'airtel', 'address': '65, pusa road', 'city': 'new delhi'}\n",
      "{'name': 'Vicky', 'phone_no': 9123450767, 'network': 'airtel', 'address': '78, Tilak nagar', 'city': 'west delhi'}\n",
      "{'name': 'Sahil', 'phone_no': 9765432190, 'network': 'vi', 'address': '61, jorbagh', 'city': ' south delhi'}\n",
      "{'name': 'Raj', 'phone_no': 9808654321, 'network': 'vi', 'address': '674, ashram', 'city': 'south delhi'}\n",
      "{'name': 'Ambu', 'phone_no': 9657543210, 'network': 'bsnl', 'address': '712, malviya nagar', 'city': 'south delhi'}\n",
      "{'name': 'Rani', 'phone_no': 9678900098, 'network': 'airtel', 'address': '12, jorbagh', 'city': 'south delhi'}\n",
      "{'name': 'Ankit', 'phone_no': 9800067812, 'network': 'jio', 'address': '65, pusa road', 'city': 'new delhi'}\n",
      "{'name': 'Monika', 'phone_no': 9812347865, 'network': 'jio', 'address': '54, kotla', 'city': 'new delhi'}\n",
      "{'name': 'Vinod', 'phone_no': 985678890, 'network': 'airtel', 'address': '65, pusa road', 'city': 'new delhi'}\n",
      "{'name': 'Vicky', 'phone_no': 9123450767, 'network': 'airtel', 'address': '78, Tilak nagar', 'city': 'west delhi'}\n",
      "{'name': 'Sahil', 'phone_no': 9765432190, 'network': 'vi', 'address': '61, jorbagh', 'city': ' south delhi'}\n",
      "{'name': 'Raj', 'phone_no': 9808654321, 'network': 'vi', 'address': '674, ashram', 'city': 'south delhi'}\n",
      "{'name': 'Ambu', 'phone_no': 9657543210, 'network': 'bsnl', 'address': '712, malviya nagar', 'city': 'south delhi'}\n",
      "{'name': 'Rani', 'phone_no': 9678900098, 'network': 'airtel', 'address': '12, jorbagh', 'city': 'south delhi'}\n",
      "{'name': 'Ankit', 'phone_no': 9800067812, 'network': 'jio', 'address': '65, pusa road', 'city': 'new delhi'}\n",
      "{'name': 'Monika', 'phone_no': 9812347865, 'network': 'jio', 'address': '54, kotla', 'city': 'new delhi'}\n",
      "{'name': 'Anjali', 'phone_no': 9564329100, 'network': 'jio', 'address': '45, defence colony', 'city': 'new delhi'}\n",
      "{'name': 'Vinod', 'phone_no': 9800111234, 'network': 'vi', 'address': '65, chandni chawk', 'city': 'old delhi'}\n",
      "{'name': 'Kajal', 'phone_no': 7654389765, 'network': 'airtel', 'address': '82, lajpat nagar', 'city': 'new delhi'}\n",
      "{'name': 'Amit', 'phone_no': 7654321890, 'network': 'vi', 'address': '432, laxmi nagar', 'city': 'east delhi'}\n",
      "{'name': 'Vinod', 'phone_no': 7567890909, 'network': 'airtel', 'address': '145,lodhi complex', 'city': 'new delhi'}\n"
     ]
    }
   ],
   "source": [
    "old_data = {\"name\":\"Monika\"}\n",
    "#updating 2 field together\n",
    "new_data = {\"$set\": {\"network\":\"airtel\", \"address\":\"654, ashram\"}}\n",
    "telephone.update_one(old_data,new_data)\n",
    "\n",
    "for document in telephone.find({},{\"_id\":0}):\n",
    "  print(document) "
   ]
  },
  {
   "cell_type": "code",
   "execution_count": 46,
   "id": "0026acb2",
   "metadata": {},
   "outputs": [
    {
     "name": "stdout",
     "output_type": "stream",
     "text": [
      "{'name': 'vinodhini', 'phone_no': 9812345670, 'network': 'vi', 'address': '123, lodhi road, delhi'}\n",
      "{'name': 'Vinie', 'phone_no': 9812345670, 'network': 'vi', 'address': '123, lodhi road, delhi'}\n",
      "{'name': 'Vinod', 'phone_no': 985678890, 'network': 'airtel', 'address': '65, pusa road', 'city': 'new delhi'}\n",
      "{'name': 'Vicky', 'phone_no': 9123450767, 'network': 'airtel', 'address': '78, Tilak nagar', 'city': 'west delhi'}\n",
      "{'name': 'Sahil', 'phone_no': 9765432190, 'network': 'vi', 'address': '61, jorbagh', 'city': ' south delhi'}\n",
      "{'name': 'Raj', 'phone_no': 9000001234, 'network': 'vi', 'address': '674, ashram', 'city': 'south delhi', 'age': 32}\n",
      "{'name': 'Ambu', 'phone_no': 9657543210, 'network': 'bsnl', 'address': '712, malviya nagar', 'city': 'south delhi'}\n",
      "{'name': 'Rani', 'phone_no': 9678900098, 'network': 'airtel', 'address': '12, jorbagh', 'city': 'south delhi'}\n",
      "{'name': 'Ankit', 'phone_no': 9800067812, 'network': 'jio', 'address': '65, pusa road', 'city': 'new delhi'}\n",
      "{'name': 'Monika', 'phone_no': 9812347865, 'network': 'airtel', 'address': '54, kotla', 'city': 'new delhi'}\n",
      "{'name': 'Anjali', 'phone_no': 9564329100, 'network': 'jio', 'address': '45, defence colony', 'city': 'new delhi'}\n",
      "{'name': 'Vinod', 'phone_no': 9800111234, 'network': 'vi', 'address': '65, chandni chawk', 'city': 'old delhi'}\n",
      "{'name': 'Kajal', 'phone_no': 7654389765, 'network': 'airtel', 'address': '82, lajpat nagar', 'city': 'new delhi'}\n",
      "{'name': 'Amit', 'phone_no': 7654321890, 'network': 'vi', 'address': '432, laxmi nagar', 'city': 'east delhi'}\n",
      "{'name': 'Vinod', 'phone_no': 7567890909, 'network': 'airtel', 'address': '145,lodhi complex', 'city': 'new delhi'}\n",
      "{'name': 'Vinod', 'phone_no': 985678890, 'network': 'airtel', 'address': '65, pusa road', 'city': 'new delhi'}\n",
      "{'name': 'Vicky', 'phone_no': 9123450767, 'network': 'airtel', 'address': '78, Tilak nagar', 'city': 'west delhi'}\n",
      "{'name': 'Sahil', 'phone_no': 9765432190, 'network': 'vi', 'address': '61, jorbagh', 'city': ' south delhi'}\n",
      "{'name': 'Raj', 'phone_no': 9808654321, 'network': 'vi', 'address': '674, ashram', 'city': 'south delhi'}\n",
      "{'name': 'Ambu', 'phone_no': 9657543210, 'network': 'bsnl', 'address': '712, malviya nagar', 'city': 'south delhi'}\n",
      "{'name': 'Rani', 'phone_no': 9678900098, 'network': 'airtel', 'address': '12, jorbagh', 'city': 'south delhi'}\n",
      "{'name': 'Ankit', 'phone_no': 9800067812, 'network': 'jio', 'address': '65, pusa road', 'city': 'new delhi'}\n",
      "{'name': 'Monika', 'phone_no': 9812347865, 'network': 'jio', 'address': '54, kotla', 'city': 'new delhi'}\n",
      "{'name': 'Vinod', 'phone_no': 985678890, 'network': 'airtel', 'address': '65, pusa road', 'city': 'new delhi'}\n",
      "{'name': 'Vicky', 'phone_no': 9123450767, 'network': 'airtel', 'address': '78, Tilak nagar', 'city': 'west delhi'}\n",
      "{'name': 'Sahil', 'phone_no': 9765432190, 'network': 'vi', 'address': '61, jorbagh', 'city': ' south delhi'}\n",
      "{'name': 'Raj', 'phone_no': 9808654321, 'network': 'vi', 'address': '674, ashram', 'city': 'south delhi'}\n",
      "{'name': 'Ambu', 'phone_no': 9657543210, 'network': 'bsnl', 'address': '712, malviya nagar', 'city': 'south delhi'}\n",
      "{'name': 'Rani', 'phone_no': 9678900098, 'network': 'airtel', 'address': '12, jorbagh', 'city': 'south delhi'}\n",
      "{'name': 'Ankit', 'phone_no': 9800067812, 'network': 'jio', 'address': '65, pusa road', 'city': 'new delhi'}\n",
      "{'name': 'Monika', 'phone_no': 9812347865, 'network': 'jio', 'address': '54, kotla', 'city': 'new delhi'}\n",
      "{'name': 'Anjali', 'phone_no': 9564329100, 'network': 'jio', 'address': '45, defence colony', 'city': 'new delhi'}\n",
      "{'name': 'Vinod', 'phone_no': 9800111234, 'network': 'vi', 'address': '65, chandni chawk', 'city': 'old delhi'}\n",
      "{'name': 'Kajal', 'phone_no': 7654389765, 'network': 'airtel', 'address': '82, lajpat nagar', 'city': 'new delhi'}\n",
      "{'name': 'Amit', 'phone_no': 7654321890, 'network': 'vi', 'address': '432, laxmi nagar', 'city': 'east delhi'}\n",
      "{'name': 'Vinod', 'phone_no': 7567890909, 'network': 'airtel', 'address': '145,lodhi complex', 'city': 'new delhi'}\n"
     ]
    }
   ],
   "source": [
    "old_data = {\"name\":\"Raj\"}\n",
    "new_data = {\"$set\": {\"phone_no\":9000001234,\"age\":32}} \n",
    "# updating phone_no and adding one more field \"age\" which does not exist in it already.\n",
    "telephone.update_one(old_data,new_data)\n",
    "\n",
    "for document in telephone.find({},{\"_id\":0}):\n",
    "  print(document) "
   ]
  },
  {
   "cell_type": "code",
   "execution_count": 49,
   "id": "e0670973",
   "metadata": {},
   "outputs": [
    {
     "name": "stdout",
     "output_type": "stream",
     "text": [
      "{'name': 'vinodhini', 'phone_no': 9812345670, 'network': 'vi', 'address': '123, lodhi road, delhi'}\n",
      "{'name': 'Vinie', 'phone_no': 9812345670, 'network': 'vi', 'address': '123, lodhi road, delhi'}\n",
      "{'name': 'Vinod', 'phone_no': 985678890, 'network': 'airtel', 'address': '65, pusa road', 'city': 'new delhi'}\n",
      "{'name': 'Vicky', 'phone_no': 9123450767, 'network': 'airtel', 'address': '78, Tilak nagar', 'city': 'west delhi'}\n",
      "{'name': 'Sahil', 'phone_no': 9765432190, 'network': 'vi', 'address': '61, jorbagh', 'city': ' south delhi'}\n",
      "{'name': 'Raj', 'phone_no': 9000001234, 'network': 'vi', 'address': '674, ashram', 'city': 'south delhi', 'age': 32}\n",
      "{'name': 'Ambu', 'phone_no': 9657543210, 'network': 'bsnl', 'address': '712, malviya nagar', 'city': 'south delhi'}\n",
      "{'name': 'Rani', 'phone_no': 9678900098, 'network': 'airtel', 'address': '12, jorbagh', 'city': 'south delhi'}\n",
      "{'name': 'Ankit', 'phone_no': 9800067812, 'network': 'airtel', 'address': '65, pusa road', 'city': 'new delhi'}\n",
      "{'name': 'Monika', 'phone_no': 9812347865, 'network': 'airtel', 'address': '654, ashram', 'city': 'new delhi'}\n",
      "{'name': 'Anjali', 'phone_no': 9564329100, 'network': 'jio', 'address': '45, defence colony', 'city': 'new delhi'}\n",
      "{'name': 'Vinod', 'phone_no': 9800111234, 'network': 'vi', 'address': '65, chandni chawk', 'city': 'old delhi'}\n",
      "{'name': 'Kajal', 'phone_no': 7654389765, 'network': 'airtel', 'address': '82, lajpat nagar', 'city': 'new delhi'}\n",
      "{'name': 'Amit', 'phone_no': 7654321890, 'network': 'vi', 'address': '432, laxmi nagar', 'city': 'east delhi'}\n",
      "{'name': 'Vinod', 'phone_no': 7567890909, 'network': 'airtel', 'address': '145,lodhi complex', 'city': 'new delhi'}\n",
      "{'name': 'Vinod', 'phone_no': 985678890, 'network': 'airtel', 'address': '65, pusa road', 'city': 'new delhi'}\n",
      "{'name': 'Vicky', 'phone_no': 9123450767, 'network': 'airtel', 'address': '78, Tilak nagar', 'city': 'west delhi'}\n",
      "{'name': 'Sahil', 'phone_no': 9765432190, 'network': 'vi', 'address': '61, jorbagh', 'city': ' south delhi'}\n",
      "{'name': 'Raj', 'phone_no': 9808654321, 'network': 'vi', 'address': '674, ashram', 'city': 'south delhi'}\n",
      "{'name': 'Ambu', 'phone_no': 9657543210, 'network': 'bsnl', 'address': '712, malviya nagar', 'city': 'south delhi'}\n",
      "{'name': 'Rani', 'phone_no': 9678900098, 'network': 'airtel', 'address': '12, jorbagh', 'city': 'south delhi'}\n",
      "{'name': 'Ankit', 'phone_no': 9800067812, 'network': 'jio', 'address': '65, pusa road', 'city': 'new delhi'}\n",
      "{'name': 'Monika', 'phone_no': 9812347865, 'network': 'jio', 'address': '54, kotla', 'city': 'new delhi'}\n",
      "{'name': 'Vinod', 'phone_no': 985678890, 'network': 'airtel', 'address': '65, pusa road', 'city': 'new delhi'}\n",
      "{'name': 'Vicky', 'phone_no': 9123450767, 'network': 'airtel', 'address': '78, Tilak nagar', 'city': 'west delhi'}\n",
      "{'name': 'Sahil', 'phone_no': 9765432190, 'network': 'vi', 'address': '61, jorbagh', 'city': ' south delhi'}\n",
      "{'name': 'Raj', 'phone_no': 9808654321, 'network': 'vi', 'address': '674, ashram', 'city': 'south delhi'}\n",
      "{'name': 'Ambu', 'phone_no': 9657543210, 'network': 'bsnl', 'address': '712, malviya nagar', 'city': 'south delhi'}\n",
      "{'name': 'Rani', 'phone_no': 9678900098, 'network': 'airtel', 'address': '12, jorbagh', 'city': 'south delhi'}\n",
      "{'name': 'Ankit', 'phone_no': 9800067812, 'network': 'jio', 'address': '65, pusa road', 'city': 'new delhi'}\n",
      "{'name': 'Monika', 'phone_no': 9812347865, 'network': 'jio', 'address': '54, kotla', 'city': 'new delhi'}\n",
      "{'name': 'Anjali', 'phone_no': 9564329100, 'network': 'jio', 'address': '45, defence colony', 'city': 'new delhi'}\n",
      "{'name': 'Vinod', 'phone_no': 9800111234, 'network': 'vi', 'address': '65, chandni chawk', 'city': 'old delhi'}\n",
      "{'name': 'Kajal', 'phone_no': 7654389765, 'network': 'airtel', 'address': '82, lajpat nagar', 'city': 'new delhi'}\n",
      "{'name': 'Amit', 'phone_no': 7654321890, 'network': 'vi', 'address': '432, laxmi nagar', 'city': 'east delhi'}\n",
      "{'name': 'Vinod', 'phone_no': 7567890909, 'network': 'airtel', 'address': '145,lodhi complex', 'city': 'new delhi'}\n"
     ]
    }
   ],
   "source": [
    "#updating  a field by giving multiple conditions\n",
    "old_data = {\"name\":\"Ankit\", \"phone_no\":9800067812}\n",
    "new_data = {\"$set\": {\"network\":\"airtel\"}}\n",
    "telephone.update_one(old_data,new_data)\n",
    "\n",
    "for document in telephone.find({},{\"_id\":0}):\n",
    "  print(document) "
   ]
  },
  {
   "cell_type": "markdown",
   "id": "52dbcb48",
   "metadata": {},
   "source": [
    "### update_many()"
   ]
  },
  {
   "cell_type": "code",
   "execution_count": 51,
   "id": "3e926823",
   "metadata": {},
   "outputs": [
    {
     "name": "stdout",
     "output_type": "stream",
     "text": [
      "{'name': 'vinodhini', 'phone_no': 9812345670, 'network': 'vi', 'address': '123, lodhi road, delhi'}\n",
      "{'name': 'Vinie', 'phone_no': 9812345670, 'network': 'vi', 'address': '123, lodhi road, delhi'}\n",
      "{'name': 'Vinod', 'phone_no': 985678890, 'network': 'airtel', 'address': '65, pusa road', 'city': 'new delhi'}\n",
      "{'name': 'Vicky', 'phone_no': 9123450767, 'network': 'airtel', 'address': '78, Tilak nagar', 'city': 'west delhi'}\n",
      "{'name': 'Sahil', 'phone_no': 9765432190, 'network': 'vi', 'address': '61, jorbagh', 'city': ' south delhi'}\n",
      "{'name': 'Raj', 'phone_no': 9000001234, 'network': 'vi', 'address': '674, ashram', 'city': 'south delhi', 'age': 32}\n",
      "{'name': 'Ambu', 'phone_no': 9657543210, 'network': 'vi', 'address': '60,lodhi road', 'city': 'south delhi'}\n",
      "{'name': 'Rani', 'phone_no': 9678900098, 'network': 'airtel', 'address': '12, jorbagh', 'city': 'south delhi'}\n",
      "{'name': 'Ankit', 'phone_no': 9800067812, 'network': 'airtel', 'address': '65, pusa road', 'city': 'new delhi'}\n",
      "{'name': 'Monika', 'phone_no': 9812347865, 'network': 'airtel', 'address': '654, ashram', 'city': 'new delhi'}\n",
      "{'name': 'Anjali', 'phone_no': 9564329100, 'network': 'jio', 'address': '45, defence colony', 'city': 'new delhi'}\n",
      "{'name': 'Vinod', 'phone_no': 9800111234, 'network': 'vi', 'address': '65, chandni chawk', 'city': 'old delhi'}\n",
      "{'name': 'Kajal', 'phone_no': 7654389765, 'network': 'airtel', 'address': '82, lajpat nagar', 'city': 'new delhi'}\n",
      "{'name': 'Amit', 'phone_no': 7654321890, 'network': 'vi', 'address': '432, laxmi nagar', 'city': 'east delhi'}\n",
      "{'name': 'Vinod', 'phone_no': 7567890909, 'network': 'airtel', 'address': '145,lodhi complex', 'city': 'new delhi'}\n",
      "{'name': 'Vinod', 'phone_no': 985678890, 'network': 'airtel', 'address': '65, pusa road', 'city': 'new delhi'}\n",
      "{'name': 'Vicky', 'phone_no': 9123450767, 'network': 'airtel', 'address': '78, Tilak nagar', 'city': 'west delhi'}\n",
      "{'name': 'Sahil', 'phone_no': 9765432190, 'network': 'vi', 'address': '61, jorbagh', 'city': ' south delhi'}\n",
      "{'name': 'Raj', 'phone_no': 9808654321, 'network': 'vi', 'address': '674, ashram', 'city': 'south delhi'}\n",
      "{'name': 'Ambu', 'phone_no': 9657543210, 'network': 'vi', 'address': '60,lodhi road', 'city': 'south delhi'}\n",
      "{'name': 'Rani', 'phone_no': 9678900098, 'network': 'airtel', 'address': '12, jorbagh', 'city': 'south delhi'}\n",
      "{'name': 'Ankit', 'phone_no': 9800067812, 'network': 'jio', 'address': '65, pusa road', 'city': 'new delhi'}\n",
      "{'name': 'Monika', 'phone_no': 9812347865, 'network': 'jio', 'address': '54, kotla', 'city': 'new delhi'}\n",
      "{'name': 'Vinod', 'phone_no': 985678890, 'network': 'airtel', 'address': '65, pusa road', 'city': 'new delhi'}\n",
      "{'name': 'Vicky', 'phone_no': 9123450767, 'network': 'airtel', 'address': '78, Tilak nagar', 'city': 'west delhi'}\n",
      "{'name': 'Sahil', 'phone_no': 9765432190, 'network': 'vi', 'address': '61, jorbagh', 'city': ' south delhi'}\n",
      "{'name': 'Raj', 'phone_no': 9808654321, 'network': 'vi', 'address': '674, ashram', 'city': 'south delhi'}\n",
      "{'name': 'Ambu', 'phone_no': 9657543210, 'network': 'vi', 'address': '60,lodhi road', 'city': 'south delhi'}\n",
      "{'name': 'Rani', 'phone_no': 9678900098, 'network': 'airtel', 'address': '12, jorbagh', 'city': 'south delhi'}\n",
      "{'name': 'Ankit', 'phone_no': 9800067812, 'network': 'jio', 'address': '65, pusa road', 'city': 'new delhi'}\n",
      "{'name': 'Monika', 'phone_no': 9812347865, 'network': 'jio', 'address': '54, kotla', 'city': 'new delhi'}\n",
      "{'name': 'Anjali', 'phone_no': 9564329100, 'network': 'jio', 'address': '45, defence colony', 'city': 'new delhi'}\n",
      "{'name': 'Vinod', 'phone_no': 9800111234, 'network': 'vi', 'address': '65, chandni chawk', 'city': 'old delhi'}\n",
      "{'name': 'Kajal', 'phone_no': 7654389765, 'network': 'airtel', 'address': '82, lajpat nagar', 'city': 'new delhi'}\n",
      "{'name': 'Amit', 'phone_no': 7654321890, 'network': 'vi', 'address': '432, laxmi nagar', 'city': 'east delhi'}\n",
      "{'name': 'Vinod', 'phone_no': 7567890909, 'network': 'airtel', 'address': '145,lodhi complex', 'city': 'new delhi'}\n"
     ]
    }
   ],
   "source": [
    "old_data = {\"name\":\"Ambu\"}\n",
    "new_data = {\"$set\": {\"network\":\"vi\", \"address\":\"60,lodhi road\"}}\n",
    "telephone.update_many(old_data,new_data)\n",
    "\n",
    "for document in telephone.find({},{\"_id\":0}):\n",
    "  print(document) "
   ]
  },
  {
   "cell_type": "code",
   "execution_count": 52,
   "id": "dde4bb53",
   "metadata": {},
   "outputs": [
    {
     "name": "stdout",
     "output_type": "stream",
     "text": [
      "{'name': 'vinodhini', 'phone_no': 9812345670, 'network': 'vi', 'address': '123, lodhi road, delhi'}\n",
      "{'name': 'Vinie', 'phone_no': 9812345670, 'network': 'vi', 'address': '123, lodhi road, delhi'}\n",
      "{'name': 'Vinod', 'phone_no': 985678890, 'network': 'airtel', 'address': '65, pusa road', 'city': 'new delhi'}\n",
      "{'name': 'Vicky', 'phone_no': 9123450767, 'network': 'airtel', 'address': '78, Tilak nagar', 'city': 'west delhi'}\n",
      "{'name': 'Sahil', 'phone_no': 9765432190, 'network': 'bsnl', 'address': '61, jorbagh', 'city': ' south delhi', 'age': 23}\n",
      "{'name': 'Raj', 'phone_no': 9000001234, 'network': 'vi', 'address': '674, ashram', 'city': 'south delhi', 'age': 32}\n",
      "{'name': 'Ambu', 'phone_no': 9657543210, 'network': 'vi', 'address': '60,lodhi road', 'city': 'south delhi'}\n",
      "{'name': 'Rani', 'phone_no': 9678900098, 'network': 'airtel', 'address': '12, jorbagh', 'city': 'south delhi'}\n",
      "{'name': 'Ankit', 'phone_no': 9800067812, 'network': 'airtel', 'address': '65, pusa road', 'city': 'new delhi'}\n",
      "{'name': 'Monika', 'phone_no': 9812347865, 'network': 'airtel', 'address': '654, ashram', 'city': 'new delhi'}\n",
      "{'name': 'Anjali', 'phone_no': 9564329100, 'network': 'jio', 'address': '45, defence colony', 'city': 'new delhi'}\n",
      "{'name': 'Vinod', 'phone_no': 9800111234, 'network': 'vi', 'address': '65, chandni chawk', 'city': 'old delhi'}\n",
      "{'name': 'Kajal', 'phone_no': 7654389765, 'network': 'airtel', 'address': '82, lajpat nagar', 'city': 'new delhi'}\n",
      "{'name': 'Amit', 'phone_no': 7654321890, 'network': 'vi', 'address': '432, laxmi nagar', 'city': 'east delhi'}\n",
      "{'name': 'Vinod', 'phone_no': 7567890909, 'network': 'airtel', 'address': '145,lodhi complex', 'city': 'new delhi'}\n",
      "{'name': 'Vinod', 'phone_no': 985678890, 'network': 'airtel', 'address': '65, pusa road', 'city': 'new delhi'}\n",
      "{'name': 'Vicky', 'phone_no': 9123450767, 'network': 'airtel', 'address': '78, Tilak nagar', 'city': 'west delhi'}\n",
      "{'name': 'Sahil', 'phone_no': 9765432190, 'network': 'bsnl', 'address': '61, jorbagh', 'city': ' south delhi', 'age': 23}\n",
      "{'name': 'Raj', 'phone_no': 9808654321, 'network': 'vi', 'address': '674, ashram', 'city': 'south delhi'}\n",
      "{'name': 'Ambu', 'phone_no': 9657543210, 'network': 'vi', 'address': '60,lodhi road', 'city': 'south delhi'}\n",
      "{'name': 'Rani', 'phone_no': 9678900098, 'network': 'airtel', 'address': '12, jorbagh', 'city': 'south delhi'}\n",
      "{'name': 'Ankit', 'phone_no': 9800067812, 'network': 'jio', 'address': '65, pusa road', 'city': 'new delhi'}\n",
      "{'name': 'Monika', 'phone_no': 9812347865, 'network': 'jio', 'address': '54, kotla', 'city': 'new delhi'}\n",
      "{'name': 'Vinod', 'phone_no': 985678890, 'network': 'airtel', 'address': '65, pusa road', 'city': 'new delhi'}\n",
      "{'name': 'Vicky', 'phone_no': 9123450767, 'network': 'airtel', 'address': '78, Tilak nagar', 'city': 'west delhi'}\n",
      "{'name': 'Sahil', 'phone_no': 9765432190, 'network': 'bsnl', 'address': '61, jorbagh', 'city': ' south delhi', 'age': 23}\n",
      "{'name': 'Raj', 'phone_no': 9808654321, 'network': 'vi', 'address': '674, ashram', 'city': 'south delhi'}\n",
      "{'name': 'Ambu', 'phone_no': 9657543210, 'network': 'vi', 'address': '60,lodhi road', 'city': 'south delhi'}\n",
      "{'name': 'Rani', 'phone_no': 9678900098, 'network': 'airtel', 'address': '12, jorbagh', 'city': 'south delhi'}\n",
      "{'name': 'Ankit', 'phone_no': 9800067812, 'network': 'jio', 'address': '65, pusa road', 'city': 'new delhi'}\n",
      "{'name': 'Monika', 'phone_no': 9812347865, 'network': 'jio', 'address': '54, kotla', 'city': 'new delhi'}\n",
      "{'name': 'Anjali', 'phone_no': 9564329100, 'network': 'jio', 'address': '45, defence colony', 'city': 'new delhi'}\n",
      "{'name': 'Vinod', 'phone_no': 9800111234, 'network': 'vi', 'address': '65, chandni chawk', 'city': 'old delhi'}\n",
      "{'name': 'Kajal', 'phone_no': 7654389765, 'network': 'airtel', 'address': '82, lajpat nagar', 'city': 'new delhi'}\n",
      "{'name': 'Amit', 'phone_no': 7654321890, 'network': 'vi', 'address': '432, laxmi nagar', 'city': 'east delhi'}\n",
      "{'name': 'Vinod', 'phone_no': 7567890909, 'network': 'airtel', 'address': '145,lodhi complex', 'city': 'new delhi'}\n"
     ]
    }
   ],
   "source": [
    "#update_many() by giving multiple conditions and adding a new field\n",
    "old_data = {\"name\":\"Sahil\"}\n",
    "new_data = {\"$set\": {\"network\":\"bsnl\", \"age\":23}}\n",
    "telephone.update_many(old_data,new_data)\n",
    "\n",
    "for document in telephone.find({},{\"_id\":0}):\n",
    "  print(document) "
   ]
  },
  {
   "cell_type": "markdown",
   "id": "91403781",
   "metadata": {},
   "source": [
    "## delete records"
   ]
  },
  {
   "cell_type": "markdown",
   "id": "7442ca4b",
   "metadata": {},
   "source": [
    "### using delete_one()"
   ]
  },
  {
   "cell_type": "code",
   "execution_count": 53,
   "id": "780fc6ec",
   "metadata": {},
   "outputs": [
    {
     "name": "stdout",
     "output_type": "stream",
     "text": [
      "{'name': 'vinodhini', 'phone_no': 9812345670, 'network': 'vi', 'address': '123, lodhi road, delhi'}\n",
      "{'name': 'Vinie', 'phone_no': 9812345670, 'network': 'vi', 'address': '123, lodhi road, delhi'}\n",
      "{'name': 'Vinod', 'phone_no': 985678890, 'network': 'airtel', 'address': '65, pusa road', 'city': 'new delhi'}\n",
      "{'name': 'Vicky', 'phone_no': 9123450767, 'network': 'airtel', 'address': '78, Tilak nagar', 'city': 'west delhi'}\n",
      "{'name': 'Sahil', 'phone_no': 9765432190, 'network': 'bsnl', 'address': '61, jorbagh', 'city': ' south delhi', 'age': 23}\n",
      "{'name': 'Raj', 'phone_no': 9000001234, 'network': 'vi', 'address': '674, ashram', 'city': 'south delhi', 'age': 32}\n",
      "{'name': 'Ambu', 'phone_no': 9657543210, 'network': 'vi', 'address': '60,lodhi road', 'city': 'south delhi'}\n",
      "{'name': 'Rani', 'phone_no': 9678900098, 'network': 'airtel', 'address': '12, jorbagh', 'city': 'south delhi'}\n",
      "{'name': 'Ankit', 'phone_no': 9800067812, 'network': 'airtel', 'address': '65, pusa road', 'city': 'new delhi'}\n",
      "{'name': 'Monika', 'phone_no': 9812347865, 'network': 'airtel', 'address': '654, ashram', 'city': 'new delhi'}\n",
      "{'name': 'Anjali', 'phone_no': 9564329100, 'network': 'jio', 'address': '45, defence colony', 'city': 'new delhi'}\n",
      "{'name': 'Vinod', 'phone_no': 9800111234, 'network': 'vi', 'address': '65, chandni chawk', 'city': 'old delhi'}\n",
      "{'name': 'Amit', 'phone_no': 7654321890, 'network': 'vi', 'address': '432, laxmi nagar', 'city': 'east delhi'}\n",
      "{'name': 'Vinod', 'phone_no': 7567890909, 'network': 'airtel', 'address': '145,lodhi complex', 'city': 'new delhi'}\n",
      "{'name': 'Vinod', 'phone_no': 985678890, 'network': 'airtel', 'address': '65, pusa road', 'city': 'new delhi'}\n",
      "{'name': 'Vicky', 'phone_no': 9123450767, 'network': 'airtel', 'address': '78, Tilak nagar', 'city': 'west delhi'}\n",
      "{'name': 'Sahil', 'phone_no': 9765432190, 'network': 'bsnl', 'address': '61, jorbagh', 'city': ' south delhi', 'age': 23}\n",
      "{'name': 'Raj', 'phone_no': 9808654321, 'network': 'vi', 'address': '674, ashram', 'city': 'south delhi'}\n",
      "{'name': 'Ambu', 'phone_no': 9657543210, 'network': 'vi', 'address': '60,lodhi road', 'city': 'south delhi'}\n",
      "{'name': 'Rani', 'phone_no': 9678900098, 'network': 'airtel', 'address': '12, jorbagh', 'city': 'south delhi'}\n",
      "{'name': 'Ankit', 'phone_no': 9800067812, 'network': 'jio', 'address': '65, pusa road', 'city': 'new delhi'}\n",
      "{'name': 'Monika', 'phone_no': 9812347865, 'network': 'jio', 'address': '54, kotla', 'city': 'new delhi'}\n",
      "{'name': 'Vinod', 'phone_no': 985678890, 'network': 'airtel', 'address': '65, pusa road', 'city': 'new delhi'}\n",
      "{'name': 'Vicky', 'phone_no': 9123450767, 'network': 'airtel', 'address': '78, Tilak nagar', 'city': 'west delhi'}\n",
      "{'name': 'Sahil', 'phone_no': 9765432190, 'network': 'bsnl', 'address': '61, jorbagh', 'city': ' south delhi', 'age': 23}\n",
      "{'name': 'Raj', 'phone_no': 9808654321, 'network': 'vi', 'address': '674, ashram', 'city': 'south delhi'}\n",
      "{'name': 'Ambu', 'phone_no': 9657543210, 'network': 'vi', 'address': '60,lodhi road', 'city': 'south delhi'}\n",
      "{'name': 'Rani', 'phone_no': 9678900098, 'network': 'airtel', 'address': '12, jorbagh', 'city': 'south delhi'}\n",
      "{'name': 'Ankit', 'phone_no': 9800067812, 'network': 'jio', 'address': '65, pusa road', 'city': 'new delhi'}\n",
      "{'name': 'Monika', 'phone_no': 9812347865, 'network': 'jio', 'address': '54, kotla', 'city': 'new delhi'}\n",
      "{'name': 'Anjali', 'phone_no': 9564329100, 'network': 'jio', 'address': '45, defence colony', 'city': 'new delhi'}\n",
      "{'name': 'Vinod', 'phone_no': 9800111234, 'network': 'vi', 'address': '65, chandni chawk', 'city': 'old delhi'}\n",
      "{'name': 'Kajal', 'phone_no': 7654389765, 'network': 'airtel', 'address': '82, lajpat nagar', 'city': 'new delhi'}\n",
      "{'name': 'Amit', 'phone_no': 7654321890, 'network': 'vi', 'address': '432, laxmi nagar', 'city': 'east delhi'}\n",
      "{'name': 'Vinod', 'phone_no': 7567890909, 'network': 'airtel', 'address': '145,lodhi complex', 'city': 'new delhi'}\n"
     ]
    }
   ],
   "source": [
    "telephone.delete_one({\"name\":\"Kajal\"})\n",
    "for documents in telephone.find({},{\"_id\":0}):\n",
    "    print(documents)"
   ]
  },
  {
   "cell_type": "markdown",
   "id": "2cbd6a80",
   "metadata": {},
   "source": [
    "### using delete_many()"
   ]
  },
  {
   "cell_type": "code",
   "execution_count": 55,
   "id": "140edc2c",
   "metadata": {},
   "outputs": [
    {
     "name": "stdout",
     "output_type": "stream",
     "text": [
      "{'name': 'vinodhini', 'phone_no': 9812345670, 'network': 'vi', 'address': '123, lodhi road, delhi'}\n",
      "{'name': 'Vinie', 'phone_no': 9812345670, 'network': 'vi', 'address': '123, lodhi road, delhi'}\n",
      "{'name': 'Vinod', 'phone_no': 985678890, 'network': 'airtel', 'address': '65, pusa road', 'city': 'new delhi'}\n",
      "{'name': 'Sahil', 'phone_no': 9765432190, 'network': 'bsnl', 'address': '61, jorbagh', 'city': ' south delhi', 'age': 23}\n",
      "{'name': 'Raj', 'phone_no': 9000001234, 'network': 'vi', 'address': '674, ashram', 'city': 'south delhi', 'age': 32}\n",
      "{'name': 'Ambu', 'phone_no': 9657543210, 'network': 'vi', 'address': '60,lodhi road', 'city': 'south delhi'}\n",
      "{'name': 'Rani', 'phone_no': 9678900098, 'network': 'airtel', 'address': '12, jorbagh', 'city': 'south delhi'}\n",
      "{'name': 'Ankit', 'phone_no': 9800067812, 'network': 'airtel', 'address': '65, pusa road', 'city': 'new delhi'}\n",
      "{'name': 'Monika', 'phone_no': 9812347865, 'network': 'airtel', 'address': '654, ashram', 'city': 'new delhi'}\n",
      "{'name': 'Anjali', 'phone_no': 9564329100, 'network': 'jio', 'address': '45, defence colony', 'city': 'new delhi'}\n",
      "{'name': 'Vinod', 'phone_no': 9800111234, 'network': 'vi', 'address': '65, chandni chawk', 'city': 'old delhi'}\n",
      "{'name': 'Amit', 'phone_no': 7654321890, 'network': 'vi', 'address': '432, laxmi nagar', 'city': 'east delhi'}\n",
      "{'name': 'Vinod', 'phone_no': 7567890909, 'network': 'airtel', 'address': '145,lodhi complex', 'city': 'new delhi'}\n",
      "{'name': 'Vinod', 'phone_no': 985678890, 'network': 'airtel', 'address': '65, pusa road', 'city': 'new delhi'}\n",
      "{'name': 'Sahil', 'phone_no': 9765432190, 'network': 'bsnl', 'address': '61, jorbagh', 'city': ' south delhi', 'age': 23}\n",
      "{'name': 'Raj', 'phone_no': 9808654321, 'network': 'vi', 'address': '674, ashram', 'city': 'south delhi'}\n",
      "{'name': 'Ambu', 'phone_no': 9657543210, 'network': 'vi', 'address': '60,lodhi road', 'city': 'south delhi'}\n",
      "{'name': 'Rani', 'phone_no': 9678900098, 'network': 'airtel', 'address': '12, jorbagh', 'city': 'south delhi'}\n",
      "{'name': 'Ankit', 'phone_no': 9800067812, 'network': 'jio', 'address': '65, pusa road', 'city': 'new delhi'}\n",
      "{'name': 'Monika', 'phone_no': 9812347865, 'network': 'jio', 'address': '54, kotla', 'city': 'new delhi'}\n",
      "{'name': 'Vinod', 'phone_no': 985678890, 'network': 'airtel', 'address': '65, pusa road', 'city': 'new delhi'}\n",
      "{'name': 'Sahil', 'phone_no': 9765432190, 'network': 'bsnl', 'address': '61, jorbagh', 'city': ' south delhi', 'age': 23}\n",
      "{'name': 'Raj', 'phone_no': 9808654321, 'network': 'vi', 'address': '674, ashram', 'city': 'south delhi'}\n",
      "{'name': 'Ambu', 'phone_no': 9657543210, 'network': 'vi', 'address': '60,lodhi road', 'city': 'south delhi'}\n",
      "{'name': 'Rani', 'phone_no': 9678900098, 'network': 'airtel', 'address': '12, jorbagh', 'city': 'south delhi'}\n",
      "{'name': 'Ankit', 'phone_no': 9800067812, 'network': 'jio', 'address': '65, pusa road', 'city': 'new delhi'}\n",
      "{'name': 'Monika', 'phone_no': 9812347865, 'network': 'jio', 'address': '54, kotla', 'city': 'new delhi'}\n",
      "{'name': 'Anjali', 'phone_no': 9564329100, 'network': 'jio', 'address': '45, defence colony', 'city': 'new delhi'}\n",
      "{'name': 'Vinod', 'phone_no': 9800111234, 'network': 'vi', 'address': '65, chandni chawk', 'city': 'old delhi'}\n",
      "{'name': 'Kajal', 'phone_no': 7654389765, 'network': 'airtel', 'address': '82, lajpat nagar', 'city': 'new delhi'}\n",
      "{'name': 'Amit', 'phone_no': 7654321890, 'network': 'vi', 'address': '432, laxmi nagar', 'city': 'east delhi'}\n",
      "{'name': 'Vinod', 'phone_no': 7567890909, 'network': 'airtel', 'address': '145,lodhi complex', 'city': 'new delhi'}\n"
     ]
    }
   ],
   "source": [
    "telephone.delete_many({\"name\":\"Vicky\"})\n",
    "for documents in telephone.find({},{\"_id\":0}):\n",
    "    print(documents)"
   ]
  },
  {
   "cell_type": "code",
   "execution_count": null,
   "id": "18714efa",
   "metadata": {},
   "outputs": [],
   "source": []
  }
 ],
 "metadata": {
  "kernelspec": {
   "display_name": "Python 3 (ipykernel)",
   "language": "python",
   "name": "python3"
  },
  "language_info": {
   "codemirror_mode": {
    "name": "ipython",
    "version": 3
   },
   "file_extension": ".py",
   "mimetype": "text/x-python",
   "name": "python",
   "nbconvert_exporter": "python",
   "pygments_lexer": "ipython3",
   "version": "3.9.12"
  }
 },
 "nbformat": 4,
 "nbformat_minor": 5
}
